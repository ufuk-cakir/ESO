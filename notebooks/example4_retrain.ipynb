{
 "cells": [
  {
   "cell_type": "markdown",
   "id": "9a225ae3-a7b3-41b3-a1d9-dbad39b91b7e",
   "metadata": {},
   "source": [
    "# Example 4: Retraining a model \n",
    "\n",
    "This example demonstrates how training (re-train) can be continued from saved states. The states here referred to \n",
    "saved baseline model, saved ESO model and ESO chromosome. "
   ]
  },
  {
   "cell_type": "code",
   "execution_count": 10,
   "id": "3ff05ae5-51ed-4672-b5a3-29f09f75ca46",
   "metadata": {},
   "outputs": [],
   "source": [
    "### Import libraries\n",
    "import pickle\n",
    "import os\n",
    "import json\n",
    "\n",
    "import torch\n",
    "\n",
    "import eso.utils as utils\n",
    "from eso.model.model import Model\n",
    "\n",
    "from pathlib import Path\n",
    "\n",
    "## For logging info during execution\n",
    "import logging"
   ]
  },
  {
   "cell_type": "code",
   "execution_count": 12,
   "id": "6b80a674-f1c5-4fe4-b2ea-350dbdb08f35",
   "metadata": {},
   "outputs": [],
   "source": [
    "RESULTS_PATH = Path('/home/aaron-joel/Documents/Examples/results')\n",
    "# saved baseline CNN model path\n",
    "BASELINE_CNN_STATE_PATH = RESULTS_PATH / 'baseline_cnn_state.pth'\n",
    "# saved ESO CNN model path\n",
    "ESO_CNN_STATE_PATH = RESULTS_PATH / 'chromosome_cnn_state.pth'\n",
    "# saved path of best performing chromosome\n",
    "CHROMOSOME_PKL_PATH = RESULTS_PATH / 'eso_chromosome.pkl'\n",
    "# Audio data folder (A small dataset for demonstration purpose only)\n",
    "DATA_PATH = Path('/home/aaron-joel/Documents/Examples/SmallData/SavedData')\n",
    "# Dataset generated for baseline training\n",
    "X_TRAIN_BASE_PATH = DATA_PATH / 'preprocessed' / 'train' / 'X.pkl'\n",
    "Y_TRAIN_BASE_PATH = DATA_PATH / 'preprocessed' / 'train' / 'Y.pkl'\n",
    "\n",
    "# Dataset generated for baseline validation\n",
    "X_VAL_BASE_PATH = DATA_PATH / 'preprocessed' / 'validation' / 'X.pkl'\n",
    "Y_VAL_BASE_PATH = DATA_PATH / 'preprocessed' / 'validation' / 'Y.pkl'\n",
    "\n",
    "# Dataset generated for eso training\n",
    "X_TRAIN_ESO_PATH = DATA_PATH / 'unpreprocessed' / 'train' / 'X.pkl'\n",
    "Y_TRAIN_ESO_PATH = DATA_PATH / 'unpreprocessed' / 'train' / 'Y.pkl'\n",
    "\n",
    "# Dataset generated for eso validation\n",
    "X_VAL_ESO_PATH = DATA_PATH / 'unpreprocessed' / 'validation' / 'X.pkl'\n",
    "Y_VAL_ESO_PATH = DATA_PATH / 'unpreprocessed' / 'validation' / 'Y.pkl'"
   ]
  },
  {
   "cell_type": "code",
   "execution_count": 13,
   "id": "dbd7b3c2-4377-46fb-8899-8da542246054",
   "metadata": {},
   "outputs": [],
   "source": [
    "## Constant parameters\n",
    "EPOCHS = 10\n",
    "\n",
    "## Model args\n",
    "MODEL_ARGS = {\n",
    "        \"optimizer_name\": \"adam\",\n",
    "        \"loss_function_name\": \"cross_entropy\",\n",
    "        \"num_epochs\": EPOCHS,\n",
    "        \"batch_size\": 128,\n",
    "        \"learning_rate\": 0.001,\n",
    "        \"shuffle\": True,\n",
    "        \"metric\": \"f1\",\n",
    "    }"
   ]
  },
  {
   "cell_type": "code",
   "execution_count": 14,
   "id": "6af8164c-4250-4a73-b1b9-e4495537d717",
   "metadata": {},
   "outputs": [],
   "source": [
    "## Setup logger for collecting info during execution\n",
    "logger = logging.getLogger('eso')\n",
    "logger.setLevel(logging.INFO)"
   ]
  },
  {
   "cell_type": "code",
   "execution_count": 16,
   "id": "64c18c95-dbcc-4177-b5d6-65842d95473d",
   "metadata": {},
   "outputs": [
    {
     "name": "stdout",
     "output_type": "stream",
     "text": [
      "The shape of X_train_base: (3452, 128, 76)\n",
      "The shape of Y_train_base: (3452, 2)\n",
      "The shape of X_val_base: (338, 128, 76)\n",
      "The shape of Y_val_base: (338, 2)\n"
     ]
    }
   ],
   "source": [
    "## Read baseline data from Pickle file\n",
    "X_train_base = pickle.load(open(X_TRAIN_BASE_PATH, 'rb'))\n",
    "Y_train_base = pickle.load(open(Y_TRAIN_BASE_PATH, 'rb'))\n",
    "\n",
    "X_val_base = pickle.load(open(X_VAL_BASE_PATH, 'rb'))\n",
    "Y_val_base = pickle.load(open(Y_VAL_BASE_PATH, 'rb'))\n",
    "\n",
    "print(f'The shape of X_train_base: {X_train_base.shape}')\n",
    "print(f'The shape of Y_train_base: {Y_train_base.shape}')\n",
    "\n",
    "print(f'The shape of X_val_base: {X_val_base.shape}')\n",
    "print(f'The shape of Y_val_base: {Y_val_base.shape}')"
   ]
  },
  {
   "cell_type": "code",
   "execution_count": 23,
   "id": "9718dd06-0b89-46ae-a83d-44b5ebf79df1",
   "metadata": {},
   "outputs": [
    {
     "name": "stdout",
     "output_type": "stream",
     "text": [
      "----RE-TRAINING BASELINE MODEL----\n",
      "Image shape for baseline model is: [128, 76]\n",
      "\n",
      "BaseCNN(\n",
      "  (conv_layers): Sequential(\n",
      "    (conv0): Conv2d(1, 8, kernel_size=(8, 8), stride=(1, 1))\n",
      "    (relu0): ReLU()\n",
      "    (dropout0): Dropout(p=0.5, inplace=False)\n",
      "    (maxpool0): MaxPool2d(kernel_size=4, stride=4, padding=0, dilation=1, ceil_mode=False)\n",
      "  )\n",
      "  (fc_layers): Sequential(\n",
      "    (fc0): Linear(in_features=4080, out_features=32, bias=True)\n",
      "    (relu0): ReLU()\n",
      "    (dropout0): Dropout(p=0.5, inplace=False)\n",
      "    (fc1): Linear(in_features=32, out_features=32, bias=True)\n",
      "    (relu1): ReLU()\n",
      "    (dropout1): Dropout(p=0.5, inplace=False)\n",
      "  )\n",
      "  (output_layer): Linear(in_features=32, out_features=2, bias=True)\n",
      "  (softmax): Softmax(dim=1)\n",
      ")\n"
     ]
    }
   ],
   "source": [
    "print('----RE-TRAINING BASELINE MODEL----')\n",
    "\n",
    "# Read image shape from json file\n",
    "with open(RESULTS_PATH / 'baseline.json', 'r') as read_file:\n",
    "    data = json.load(read_file)\n",
    "    \n",
    "image_shape = data['image_shape']\n",
    "print(f\"Image shape for baseline model is: {image_shape}\", end='\\n\\n')\n",
    "\n",
    "## Instantiate a baseline model\n",
    "model = Model(input_shape=(1, *image_shape), **MODEL_ARGS, logger=logger)\n",
    "print(model)\n",
    "\n",
    "## Train the model\n",
    "model.train(X_train=X_train_base, Y_train=Y_train_base)\n",
    "\n",
    "## Save trained model\n",
    "model.save_model(RESULTS_PATH, 'baseline_example4')"
   ]
  },
  {
   "cell_type": "code",
   "execution_count": 26,
   "id": "0bb87471-403c-450a-a591-640ec7ad6923",
   "metadata": {},
   "outputs": [
    {
     "name": "stdout",
     "output_type": "stream",
     "text": [
      "----BASELINE MODEL TRAINING FINISHED---\n",
      "BASELINE METRIC F1 : 0.7955801104972375\n"
     ]
    }
   ],
   "source": [
    "## Evaluate the trained model and get the metrics\n",
    "baseline_metric, _name = model.evaluate(X_val=X_val_base, Y_val=Y_val_base)\n",
    "\n",
    "print('----BASELINE MODEL TRAINING FINISHED---')\n",
    "print(f'BASELINE METRIC {_name} : {baseline_metric}')"
   ]
  },
  {
   "cell_type": "code",
   "execution_count": 27,
   "id": "d3ad4601-f069-476d-bb12-a6a112b74e33",
   "metadata": {},
   "outputs": [],
   "source": [
    "# Delete some data (useful especially for large dataset)\n",
    "del model, X_train_base, Y_train_base, X_val_base, Y_val_base"
   ]
  },
  {
   "cell_type": "markdown",
   "id": "894e3dfc-7f08-4b47-8b8d-0c00f76aafec",
   "metadata": {},
   "source": [
    "### Performing the training with an ESO classifier"
   ]
  },
  {
   "cell_type": "code",
   "execution_count": 29,
   "id": "14f544a0-49bb-4c0d-b6f8-b296af366502",
   "metadata": {},
   "outputs": [
    {
     "name": "stdout",
     "output_type": "stream",
     "text": [
      "The shape of X_train_eso is: (3452, 128, 151)\n",
      "The shape of Y_train_eso is: (3452, 2)\n",
      "The shape of X_val_eso is: (338, 128, 151)\n",
      "The shape of Y_val_eso is: (338, 2)\n"
     ]
    }
   ],
   "source": [
    "# Read saved ESO related dataset\n",
    "X_train_eso = pickle.load(open(X_TRAIN_ESO_PATH, 'rb'))\n",
    "Y_train_eso = pickle.load(open(Y_TRAIN_ESO_PATH, 'rb'))\n",
    "\n",
    "X_val_eso = pickle.load(open(X_VAL_ESO_PATH, 'rb'))\n",
    "Y_val_eso = pickle.load(open(Y_VAL_ESO_PATH, 'rb'))\n",
    "\n",
    "print(f'The shape of X_train_eso is: {X_train_eso.shape}')\n",
    "print(f'The shape of Y_train_eso is: {Y_train_eso.shape}')\n",
    "print(f'The shape of X_val_eso is: {X_val_eso.shape}')\n",
    "print(f'The shape of Y_val_eso is: {Y_val_eso.shape}')"
   ]
  },
  {
   "cell_type": "code",
   "execution_count": 32,
   "id": "e870f9aa-7754-4725-b059-2ab7ff462ece",
   "metadata": {},
   "outputs": [
    {
     "name": "stdout",
     "output_type": "stream",
     "text": [
      "Chromosome Info:\n",
      "Number of Genes: 4\n",
      "Validation F1: 1.0\n",
      "Trainable parameters: 38538\n",
      "Fitness: 0.3154045332190305\n",
      "Genes: Gene 1: (13, 6)\n",
      "Gene 2: (40, 7)\n",
      "Gene 3: (56, 6)\n",
      "Gene 4: (81, 7)\n",
      "\n",
      "\n"
     ]
    }
   ],
   "source": [
    "## Read the saved chromosome \n",
    "eso_chrom_fb = open(RESULTS_PATH / 'eso_chromosome.pkl', 'rb')\n",
    "eso_chromosome = utils.unpickler.CPU_Unpickler(eso_chrom_fb).load()\n",
    "print(eso_chromosome)\n",
    "eso_chrom_fb.close()"
   ]
  },
  {
   "cell_type": "code",
   "execution_count": 33,
   "id": "c4e0b141-2343-4c12-b481-2c0239c58e62",
   "metadata": {},
   "outputs": [],
   "source": [
    "## Set MODEL ARGS\n",
    "eso_chromosome._model_args = MODEL_ARGS"
   ]
  },
  {
   "cell_type": "code",
   "execution_count": 35,
   "id": "9808be01-7e17-4cf9-9a0c-972a3019496f",
   "metadata": {},
   "outputs": [
    {
     "name": "stdout",
     "output_type": "stream",
     "text": [
      "---TRAINING CHROMOSOME MODEL---\n"
     ]
    }
   ],
   "source": [
    "print(\"---TRAINING CHROMOSOME MODEL---\")\n",
    "\n",
    "## Train\n",
    "eso_chromosome.train(X_train=X_train_eso, Y_train=Y_train_eso, X_val=X_val_eso, Y_val=Y_val_eso)\n",
    "\n",
    "## Save output of training\n",
    "eso_chromosome.save(RESULTS_PATH, 'eso_chromosome4')\n",
    "\n",
    "## Save trained model\n",
    "eso_chromosome.save_model(RESULTS_PATH)"
   ]
  },
  {
   "cell_type": "code",
   "execution_count": 36,
   "id": "cadeabe4-1b9a-4ab9-8a65-320af8c23b9b",
   "metadata": {},
   "outputs": [
    {
     "name": "stdout",
     "output_type": "stream",
     "text": [
      "ESO CHROMOSOME METRIC:  0.9977011494252873\n",
      "ESO CHROMOSOME FITNESS: 0.31395170633298114\n"
     ]
    }
   ],
   "source": [
    "## Show the metrics\n",
    "print(f\"ESO CHROMOSOME METRIC:  {eso_chromosome.get_metric()}\")\n",
    "print(f\"ESO CHROMOSOME FITNESS: {eso_chromosome.get_fitness()}\")"
   ]
  },
  {
   "cell_type": "code",
   "execution_count": null,
   "id": "ff4b7568-e443-4a84-920d-9d18dc35990e",
   "metadata": {},
   "outputs": [],
   "source": []
  }
 ],
 "metadata": {
  "kernelspec": {
   "display_name": "Python 3 (ipykernel)",
   "language": "python",
   "name": "python3"
  },
  "language_info": {
   "codemirror_mode": {
    "name": "ipython",
    "version": 3
   },
   "file_extension": ".py",
   "mimetype": "text/x-python",
   "name": "python",
   "nbconvert_exporter": "python",
   "pygments_lexer": "ipython3",
   "version": "3.11.5"
  }
 },
 "nbformat": 4,
 "nbformat_minor": 5
}
