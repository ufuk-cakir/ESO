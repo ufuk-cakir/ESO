{
 "cells": [
  {
   "cell_type": "code",
   "execution_count": 1,
   "id": "15c4e448",
   "metadata": {},
   "outputs": [],
   "source": [
    "import sys\n",
    "import os\n",
    "sys.path.append(os.path.abspath('C:/Users/loren/Documents/Postdoc/ESO_project/ESO/src'))"
   ]
  },
  {
   "cell_type": "code",
   "execution_count": 2,
   "id": "6e33817b",
   "metadata": {},
   "outputs": [],
   "source": [
    "from eso import ESO"
   ]
  },
  {
   "cell_type": "code",
   "execution_count": null,
   "id": "59d0d03c",
   "metadata": {},
   "outputs": [],
   "source": [
    "#HYPERPARAMETERS of genetic algorithm\n",
    "\n",
    "generations = 5\n",
    "num_epochs_training = 20\n",
    "population_size = 100\n",
    "\n",
    "#Genes\n",
    "num_genes=None\n",
    "min_num_genes = 1\n",
    "max_num_genes = 10\n",
    "min_height = 1\n",
    "band_height = None\n",
    "max_height = 16\n",
    "\n",
    "#Chromosome\n",
    "stack= False\n",
    "\n",
    "#Fitness\n",
    "lambda_metric=0.7\n",
    "lamdba_size=0.3\n",
    "#-------------------------"
   ]
  },
  {
   "cell_type": "code",
   "execution_count": null,
   "id": "28325aea",
   "metadata": {},
   "outputs": [],
   "source": []
  }
 ],
 "metadata": {
  "kernelspec": {
   "display_name": "Eso",
   "language": "python",
   "name": "python3"
  },
  "language_info": {
   "codemirror_mode": {
    "name": "ipython",
    "version": 3
   },
   "file_extension": ".py",
   "mimetype": "text/x-python",
   "name": "python",
   "nbconvert_exporter": "python",
   "pygments_lexer": "ipython3",
   "version": "3.12.2"
  }
 },
 "nbformat": 4,
 "nbformat_minor": 5
}
